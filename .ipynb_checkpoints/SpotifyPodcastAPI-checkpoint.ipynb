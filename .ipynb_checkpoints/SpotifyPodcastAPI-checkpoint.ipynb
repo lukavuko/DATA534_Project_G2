{
 "cells": [
  {
   "cell_type": "code",
   "execution_count": 76,
   "id": "lesbian-comedy",
   "metadata": {},
   "outputs": [],
   "source": [
    "library(httr)\n",
    "library(jsonlite)\n",
    "library(utils)\n",
    "library(gridExtra)"
   ]
  },
  {
   "cell_type": "code",
   "execution_count": 2,
   "id": "blocked-rescue",
   "metadata": {},
   "outputs": [],
   "source": [
    "get_authentication_token <- function(client_id, client_secret_id){\n",
    "    response = POST('https://accounts.spotify.com/api/token',\n",
    "                    accept_json(),\n",
    "                    authenticate(client_id, client_secret_id),\n",
    "                    body = list(grant_type = 'client_credentials'),\n",
    "                    encode = 'form',\n",
    "                    verbose())\n",
    "    authentication_token <<- content(response)$access_token\n",
    "    return (authentication_token)\n",
    "}"
   ]
  },
  {
   "cell_type": "code",
   "execution_count": 3,
   "id": "above-tattoo",
   "metadata": {},
   "outputs": [],
   "source": [
    "get_podcast_id <- function(query, market='US'){\n",
    "    base_url = 'https://api.spotify.com/v1/search'\n",
    "    response <- GET(base_url, \n",
    "                    query = list(q = enc2utf8(query),\n",
    "                                 type = 'show',\n",
    "                                 market=market),\n",
    "                    add_headers(Accept = 'application/json', \n",
    "                    Authorization = paste('Bearer', authentication_token)))\n",
    "    response = content(response)\n",
    "    return (response$shows$items[[1]]$id)\n",
    "}"
   ]
  },
  {
   "cell_type": "code",
   "execution_count": 114,
   "id": "fewer-citizen",
   "metadata": {},
   "outputs": [],
   "source": [
    "search_for_podcast <- function(keywords, language = 'en', market='US', explicit = FALSE, limit=5){\n",
    "    base_url = 'https://api.spotify.com/v1/search'\n",
    "    response <- GET(base_url, \n",
    "                    query = list(q = enc2utf8(keywords),\n",
    "                                 type = 'show',\n",
    "                                 market=market),\n",
    "                    add_headers(Accept = 'application/json', \n",
    "                    Authorization = paste('Bearer', authentication_token)))\n",
    "    \n",
    "    podcast_name = list()\n",
    "    podcast_publisher = list()\n",
    "    podcast_id = list()\n",
    "    explicit_content = list()\n",
    "    \n",
    "    response = content(response)\n",
    "\n",
    "    \n",
    "    for (i in 1:limit){\n",
    "        podcast_name[[i]] <- response$shows$items[[i]]$name\n",
    "        podcast_publisher[[i]] <- response$shows$items[[i]]$publisher\n",
    "        podcast_id[[i]] <- response$shows$items[[i]]$id\n",
    "        explicit_content[[i]] <- response$shows$items[[i]]$explicit \n",
    "    }\n",
    "    \n",
    "    podcast_search = data.frame(unlist(podcast_name),\n",
    "                                unlist(podcast_publisher),\n",
    "                                unlist(explicit_content),\n",
    "                                unlist(podcast_id)\n",
    "                                )\n",
    "    colnames(podcast_search) <- c('Podcast Name', 'Podcast Publisher', 'Explicit', 'Podcast ID')\n",
    "    \n",
    "    if (explicit == FALSE){\n",
    "        podcast_df <- subset(podcast_search, Explicit == FALSE)\n",
    "        return(podcast_df)\n",
    "    }\n",
    "    \n",
    "    else{\n",
    "    return (podcast_search)\n",
    "        }\n",
    "\n",
    "}"
   ]
  },
  {
   "cell_type": "code",
   "execution_count": 5,
   "id": "suspended-cannon",
   "metadata": {},
   "outputs": [],
   "source": [
    "get_episode_information <- function(episode_id){\n",
    "    base_url = 'https://api.spotify.com/v1/episodes/'\n",
    "    query = paste0(episode_id,'?market=ES')\n",
    "    url = paste0(base_url, query)\n",
    "    response <- GET(url, \n",
    "                    add_headers(Accept = 'application/json', \n",
    "                                Authorization = paste('Bearer', authentication_token)))\n",
    "    return (response)\n",
    "    \n",
    "}"
   ]
  },
  {
   "cell_type": "code",
   "execution_count": null,
   "id": "powerful-annex",
   "metadata": {},
   "outputs": [],
   "source": []
  },
  {
   "cell_type": "markdown",
   "id": "right-profession",
   "metadata": {},
   "source": [
    "### Test"
   ]
  },
  {
   "cell_type": "code",
   "execution_count": 6,
   "id": "working-antenna",
   "metadata": {},
   "outputs": [
    {
     "name": "stdout",
     "output_type": "stream",
     "text": [
      "\n"
     ]
    }
   ],
   "source": [
    "client_id = Sys.getenv('CLIENT_ID')\n",
    "secret_id = Sys.getenv('CLIENT_SECRET_ID')\n",
    "\n",
    "authentication_token = get_authentication_token(client_id, secret_id)"
   ]
  },
  {
   "cell_type": "code",
   "execution_count": 7,
   "id": "tropical-biography",
   "metadata": {},
   "outputs": [
    {
     "data": {
      "text/html": [
       "'Today we continue our discussion of the work of Erich Fromm. '"
      ],
      "text/latex": [
       "'Today we continue our discussion of the work of Erich Fromm. '"
      ],
      "text/markdown": [
       "'Today we continue our discussion of the work of Erich Fromm. '"
      ],
      "text/plain": [
       "[1] \"Today we continue our discussion of the work of Erich Fromm. \""
      ]
     },
     "metadata": {},
     "output_type": "display_data"
    }
   ],
   "source": [
    "episode_id = '5fE0bPigcmwSrrYxjJD4Sv'\n",
    "episode = get_episode_information(episode_id)\n",
    "episode = content(episode)\n",
    "episode$description"
   ]
  },
  {
   "cell_type": "code",
   "execution_count": 115,
   "id": "sticky-invasion",
   "metadata": {},
   "outputs": [
    {
     "data": {
      "text/html": [
       "'5RdShpOtxKO3ZWohR2M6Sv'"
      ],
      "text/latex": [
       "'5RdShpOtxKO3ZWohR2M6Sv'"
      ],
      "text/markdown": [
       "'5RdShpOtxKO3ZWohR2M6Sv'"
      ],
      "text/plain": [
       "[1] \"5RdShpOtxKO3ZWohR2M6Sv\""
      ]
     },
     "metadata": {},
     "output_type": "display_data"
    }
   ],
   "source": [
    "podcast_keywords = 'parcast, conspiracy theories'\n",
    "show_id = get_podcast_id(podcast_keywords)\n",
    "show_id"
   ]
  },
  {
   "cell_type": "code",
   "execution_count": 116,
   "id": "earned-heaven",
   "metadata": {},
   "outputs": [
    {
     "data": {
      "text/html": [
       "<table>\n",
       "<caption>A data.frame: 3 × 4</caption>\n",
       "<thead>\n",
       "\t<tr><th></th><th scope=col>Podcast Name</th><th scope=col>Podcast Publisher</th><th scope=col>Explicit</th><th scope=col>Podcast ID</th></tr>\n",
       "\t<tr><th></th><th scope=col>&lt;chr&gt;</th><th scope=col>&lt;chr&gt;</th><th scope=col>&lt;lgl&gt;</th><th scope=col>&lt;chr&gt;</th></tr>\n",
       "</thead>\n",
       "<tbody>\n",
       "\t<tr><th scope=row>1</th><td>Conspiracy Theories                    </td><td>Parcast Network</td><td>FALSE</td><td>5RdShpOtxKO3ZWohR2M6Sv</td></tr>\n",
       "\t<tr><th scope=row>2</th><td>Conspiracy Theories &amp; Unpopular Culture</td><td>Isaac Weishaupt</td><td>FALSE</td><td>7MzvCG9rcYLHxHtFj7nW0d</td></tr>\n",
       "\t<tr><th scope=row>3</th><td>Conspiracy Theories: Music Edition     </td><td>Parcast        </td><td>FALSE</td><td>4PWcjyC11gdQQX4Grk1QkB</td></tr>\n",
       "</tbody>\n",
       "</table>\n"
      ],
      "text/latex": [
       "A data.frame: 3 × 4\n",
       "\\begin{tabular}{r|llll}\n",
       "  & Podcast Name & Podcast Publisher & Explicit & Podcast ID\\\\\n",
       "  & <chr> & <chr> & <lgl> & <chr>\\\\\n",
       "\\hline\n",
       "\t1 & Conspiracy Theories                     & Parcast Network & FALSE & 5RdShpOtxKO3ZWohR2M6Sv\\\\\n",
       "\t2 & Conspiracy Theories \\& Unpopular Culture & Isaac Weishaupt & FALSE & 7MzvCG9rcYLHxHtFj7nW0d\\\\\n",
       "\t3 & Conspiracy Theories: Music Edition      & Parcast         & FALSE & 4PWcjyC11gdQQX4Grk1QkB\\\\\n",
       "\\end{tabular}\n"
      ],
      "text/markdown": [
       "\n",
       "A data.frame: 3 × 4\n",
       "\n",
       "| <!--/--> | Podcast Name &lt;chr&gt; | Podcast Publisher &lt;chr&gt; | Explicit &lt;lgl&gt; | Podcast ID &lt;chr&gt; |\n",
       "|---|---|---|---|---|\n",
       "| 1 | Conspiracy Theories                     | Parcast Network | FALSE | 5RdShpOtxKO3ZWohR2M6Sv |\n",
       "| 2 | Conspiracy Theories &amp; Unpopular Culture | Isaac Weishaupt | FALSE | 7MzvCG9rcYLHxHtFj7nW0d |\n",
       "| 3 | Conspiracy Theories: Music Edition      | Parcast         | FALSE | 4PWcjyC11gdQQX4Grk1QkB |\n",
       "\n"
      ],
      "text/plain": [
       "  Podcast Name                            Podcast Publisher Explicit\n",
       "1 Conspiracy Theories                     Parcast Network   FALSE   \n",
       "2 Conspiracy Theories & Unpopular Culture Isaac Weishaupt   FALSE   \n",
       "3 Conspiracy Theories: Music Edition      Parcast           FALSE   \n",
       "  Podcast ID            \n",
       "1 5RdShpOtxKO3ZWohR2M6Sv\n",
       "2 7MzvCG9rcYLHxHtFj7nW0d\n",
       "3 4PWcjyC11gdQQX4Grk1QkB"
      ]
     },
     "metadata": {},
     "output_type": "display_data"
    }
   ],
   "source": [
    "podcast_keywords = 'conspiracy theories'\n",
    "response = search_for_podcast(podcast_keywords, limit=5)\n",
    "response"
   ]
  },
  {
   "cell_type": "code",
   "execution_count": 104,
   "id": "labeled-affect",
   "metadata": {},
   "outputs": [
    {
     "data": {
      "text/html": [
       "'logical'"
      ],
      "text/latex": [
       "'logical'"
      ],
      "text/markdown": [
       "'logical'"
      ],
      "text/plain": [
       "[1] \"logical\""
      ]
     },
     "metadata": {},
     "output_type": "display_data"
    }
   ],
   "source": [
    "class(response$shows$items[[1]]$explicit)"
   ]
  },
  {
   "cell_type": "code",
   "execution_count": null,
   "id": "egyptian-trance",
   "metadata": {},
   "outputs": [],
   "source": []
  }
 ],
 "metadata": {
  "kernelspec": {
   "display_name": "R",
   "language": "R",
   "name": "ir"
  },
  "language_info": {
   "codemirror_mode": "r",
   "file_extension": ".r",
   "mimetype": "text/x-r-source",
   "name": "R",
   "pygments_lexer": "r",
   "version": "4.0.2"
  }
 },
 "nbformat": 4,
 "nbformat_minor": 5
}
