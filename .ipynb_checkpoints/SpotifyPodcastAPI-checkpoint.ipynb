{
 "cells": [
  {
   "cell_type": "code",
   "execution_count": 205,
   "id": "lesbian-comedy",
   "metadata": {},
   "outputs": [],
   "source": [
    "library(httr)\n",
    "library(jsonlite)\n",
    "library(utils)\n",
    "library(glue)"
   ]
  },
  {
   "cell_type": "code",
   "execution_count": 148,
   "id": "blocked-rescue",
   "metadata": {},
   "outputs": [],
   "source": [
    "get_authentication_token <- function(client_id, client_secret_id){\n",
    "    response = POST('https://accounts.spotify.com/api/token',\n",
    "                    accept_json(),\n",
    "                    authenticate(client_id, client_secret_id),\n",
    "                    body = list(grant_type = 'client_credentials'),\n",
    "                    encode = 'form',\n",
    "                    verbose())\n",
    "    authentication_token <<- content(response)$access_token\n",
    "    return (authentication_token)\n",
    "}"
   ]
  },
  {
   "cell_type": "code",
   "execution_count": 3,
   "id": "musical-basket",
   "metadata": {},
   "outputs": [],
   "source": [
    "get_podcast_id <- function(query, market='US'){\n",
    "    base_url = 'https://api.spotify.com/v1/search'\n",
    "    response <- GET(base_url, \n",
    "                    query = list(q = enc2utf8(query),\n",
    "                                 type = 'show',\n",
    "                                 market=market),\n",
    "                    add_headers(Accept = 'application/json', \n",
    "                    Authorization = paste('Bearer', authentication_token)))\n",
    "    response = content(response)\n",
    "    return (response$shows$items[[1]]$id)\n",
    "}"
   ]
  },
  {
   "cell_type": "code",
   "execution_count": 193,
   "id": "corrected-tournament",
   "metadata": {},
   "outputs": [],
   "source": [
    "search_for_podcast <- function(keywords, language = 'en', market='US', explicit = TRUE, limit=5){\n",
    "    base_url = 'https://api.spotify.com/v1/search'\n",
    "    response <- GET(base_url, \n",
    "                    query = list(q = enc2utf8(keywords),\n",
    "                                 type = 'show',\n",
    "                                 market=market),\n",
    "                    add_headers(Accept = 'application/json', \n",
    "                    Authorization = paste('Bearer', authentication_token)))\n",
    "    \n",
    "    podcast_name = list()\n",
    "    podcast_publisher = list()\n",
    "    podcast_id = list()\n",
    "    explicit_content = list()\n",
    "    podcast_language = list()\n",
    "    response = content(response)\n",
    "    \n",
    "    search_limit = response$shows$limit\n",
    "\n",
    "    \n",
    "    for (i in 1:search_limit){\n",
    "        podcast_name[[i]] <- response$shows$items[[i]]$name\n",
    "        podcast_publisher[[i]] <- response$shows$items[[i]]$publisher\n",
    "        podcast_id[[i]] <- response$shows$items[[i]]$id\n",
    "        explicit_content[[i]] <- response$shows$items[[i]]$explicit \n",
    "        podcast_language[[i]] <- response$shows$items[[i]]$language[[1]]\n",
    "    }\n",
    "    \n",
    "    podcast_search = data.frame(unlist(podcast_name),\n",
    "                                unlist(podcast_publisher),\n",
    "                                unlist(explicit_content),\n",
    "                                unlist(podcast_language),\n",
    "                                unlist(podcast_id)\n",
    "                                )\n",
    "    colnames(podcast_search) <- c('Podcast Name', 'Podcast Publisher', 'Explicit','Language', 'Podcast ID')\n",
    "    \n",
    "    if (explicit == FALSE){\n",
    "        podcast_df <- subset(podcast_search, Explicit == FALSE & Language == language)\n",
    "        return(head(podcast_df, limit))\n",
    "    }\n",
    "    \n",
    "    else{\n",
    "        podcast_df <- subset(podcast_search, Language == language)\n",
    "        return(head(podcast_df, limit))\n",
    "        }\n",
    "\n",
    "}"
   ]
  },
  {
   "cell_type": "code",
   "execution_count": 299,
   "id": "precise-alloy",
   "metadata": {},
   "outputs": [],
   "source": [
    "get_recent_episodes <- function(podcast_id, explicit = TRUE, limit=5, market='US', duration=NA){\n",
    "    base_url = glue('https://api.spotify.com/v1/shows/{podcast_id}/episodes')\n",
    "    response <- GET(base_url, \n",
    "                    query = list(market = market),\n",
    "                    add_headers(Accept = 'application/json', \n",
    "                    Authorization = paste('Bearer', authentication_token)))\n",
    "    response = content(response)\n",
    "    \n",
    "    episode_name = list()\n",
    "    release_date = list()\n",
    "    episode_duration = list()\n",
    "    explicit_content = list()\n",
    "    episode_id = list()\n",
    "    \n",
    "    search_limit = response$limit\n",
    "\n",
    "    \n",
    "    for (i in 1:search_limit){\n",
    "        episode_name[[i]] <- response$item[[i]]$name\n",
    "        release_date[[i]] <- response$item[[i]]$release_date\n",
    "        episode_duration[[i]] <- response$item[[i]]$duration_ms\n",
    "        explicit_content[[i]] <- response$item[[i]]$explicit\n",
    "        episode_id[[i]] <- response$item[[i]]$id\n",
    "    }\n",
    "    \n",
    "    recent_episodes = data.frame(unlist(episode_name),\n",
    "                                 unlist(release_date),\n",
    "                                 unlist(episode_duration),\n",
    "                                 unlist(explicit_content),\n",
    "                                 unlist(episode_id)\n",
    "                                )\n",
    "    colnames(recent_episodes) <- c('Episode Name', 'Release Date', 'Duration','Explicit', 'Episode ID')\n",
    "    \n",
    "    \n",
    "    if (explicit == FALSE){\n",
    "        recent_episodes_df <- subset(recent_episodes, Explicit == FALSE)\n",
    "        if (is.na(duration) == FALSE){\n",
    "            recent_episodes_df <- subset(recent_episodes, Duration <= duration)\n",
    "            return(recent_episodes_df)\n",
    "        }\n",
    "        else{\n",
    "            return(head(recent_episodes_df, limit))   \n",
    "        }\n",
    "            \n",
    "    }\n",
    "    \n",
    "    else{\n",
    "        if (is.na(duration) == FALSE){\n",
    "            recent_episodes_df <- subset(recent_episodes, Duration <= duration)\n",
    "            return(recent_episodes_df)\n",
    "        }\n",
    "        else{\n",
    "            return(head(recent_episodes, limit))   \n",
    "        }\n",
    "        }\n",
    "  \n",
    "}"
   ]
  },
  {
   "cell_type": "code",
   "execution_count": 5,
   "id": "suspended-cannon",
   "metadata": {},
   "outputs": [],
   "source": [
    "get_episode_information <- function(episode_id){\n",
    "    base_url = 'https://api.spotify.com/v1/episodes/'\n",
    "    query = paste0(episode_id,'?market=ES')\n",
    "    url = paste0(base_url, query)\n",
    "    response <- GET(url, \n",
    "                    add_headers(Accept = 'application/json', \n",
    "                                Authorization = paste('Bearer', authentication_token)))\n",
    "    return (response)\n",
    "    \n",
    "}"
   ]
  },
  {
   "cell_type": "code",
   "execution_count": null,
   "id": "square-forest",
   "metadata": {},
   "outputs": [],
   "source": []
  },
  {
   "cell_type": "markdown",
   "id": "right-profession",
   "metadata": {},
   "source": [
    "### Test"
   ]
  },
  {
   "cell_type": "code",
   "execution_count": 289,
   "id": "working-antenna",
   "metadata": {},
   "outputs": [
    {
     "name": "stdout",
     "output_type": "stream",
     "text": [
      "\n"
     ]
    }
   ],
   "source": [
    "client_id = Sys.getenv('CLIENT_ID')\n",
    "secret_id = Sys.getenv('CLIENT_SECRET_ID')\n",
    "\n",
    "authentication_token = get_authentication_token(client_id, secret_id)"
   ]
  },
  {
   "cell_type": "code",
   "execution_count": 7,
   "id": "tropical-biography",
   "metadata": {},
   "outputs": [
    {
     "data": {
      "text/html": [
       "'Today we continue our discussion of the work of Erich Fromm. '"
      ],
      "text/latex": [
       "'Today we continue our discussion of the work of Erich Fromm. '"
      ],
      "text/markdown": [
       "'Today we continue our discussion of the work of Erich Fromm. '"
      ],
      "text/plain": [
       "[1] \"Today we continue our discussion of the work of Erich Fromm. \""
      ]
     },
     "metadata": {},
     "output_type": "display_data"
    }
   ],
   "source": [
    "episode_id = '5fE0bPigcmwSrrYxjJD4Sv'\n",
    "episode = get_episode_information(episode_id)\n",
    "episode = content(episode)\n",
    "episode$description"
   ]
  },
  {
   "cell_type": "code",
   "execution_count": 188,
   "id": "reasonable-charge",
   "metadata": {},
   "outputs": [
    {
     "data": {
      "text/html": [
       "'1dbguTBIriCwhJXlxTITFe'"
      ],
      "text/latex": [
       "'1dbguTBIriCwhJXlxTITFe'"
      ],
      "text/markdown": [
       "'1dbguTBIriCwhJXlxTITFe'"
      ],
      "text/plain": [
       "[1] \"1dbguTBIriCwhJXlxTITFe\""
      ]
     },
     "metadata": {},
     "output_type": "display_data"
    }
   ],
   "source": [
    "podcast_keywords = 'abroad in japan'\n",
    "show_id = get_podcast_id(podcast_keywords)\n",
    "show_id"
   ]
  },
  {
   "cell_type": "code",
   "execution_count": 200,
   "id": "selected-sunset",
   "metadata": {},
   "outputs": [],
   "source": [
    "podcast_keywords = 'abroad in japan'\n",
    "response = search_for_podcast(podcast_keywords, limit=10)\n"
   ]
  },
  {
   "cell_type": "code",
   "execution_count": 201,
   "id": "conventional-handy",
   "metadata": {},
   "outputs": [
    {
     "data": {
      "text/html": [
       "<table>\n",
       "<caption>A data.frame: 10 × 5</caption>\n",
       "<thead>\n",
       "\t<tr><th></th><th scope=col>Podcast Name</th><th scope=col>Podcast Publisher</th><th scope=col>Explicit</th><th scope=col>Language</th><th scope=col>Podcast ID</th></tr>\n",
       "\t<tr><th></th><th scope=col>&lt;chr&gt;</th><th scope=col>&lt;chr&gt;</th><th scope=col>&lt;lgl&gt;</th><th scope=col>&lt;chr&gt;</th><th scope=col>&lt;chr&gt;</th></tr>\n",
       "</thead>\n",
       "<tbody>\n",
       "\t<tr><th scope=row>1</th><td>The History of Rome              </td><td>Mike Duncan                    </td><td>FALSE</td><td>en</td><td>6wiEd40oPbQ9UK1rSpIy8I</td></tr>\n",
       "\t<tr><th scope=row>2</th><td>Revisionist History              </td><td>Pushkin Industries             </td><td>FALSE</td><td>en</td><td>2LOJaYKijiwNefCvzczyib</td></tr>\n",
       "\t<tr><th scope=row>3</th><td>American History Tellers         </td><td>Wondery                        </td><td>FALSE</td><td>en</td><td>6ynzLDYSVQUsI0ZgMAxwWI</td></tr>\n",
       "\t<tr><th scope=row>4</th><td>An Oral History of The Office    </td><td>Propagate Content              </td><td>FALSE</td><td>en</td><td>5T1519uHGVd6Te2xF5tKkR</td></tr>\n",
       "\t<tr><th scope=row>5</th><td>Stuff You Missed in History Class</td><td>iHeartRadio                    </td><td>FALSE</td><td>en</td><td>4Zkj8TTa7XAZYI6aFetlec</td></tr>\n",
       "\t<tr><th scope=row>6</th><td>History That Doesn't Suck        </td><td>Prof. Greg Jackson             </td><td>FALSE</td><td>en</td><td>7AVu47DIP4G9YGMJXtMgRi</td></tr>\n",
       "\t<tr><th scope=row>7</th><td>The History Chicks               </td><td>The History Chicks /Wondery    </td><td>FALSE</td><td>en</td><td>7dqlIAdQaybiJrfrtCbRnW</td></tr>\n",
       "\t<tr><th scope=row>8</th><td>The History of Byzantium         </td><td>thehistoryofbyzantium@gmail.com</td><td>FALSE</td><td>en</td><td>2APexkhnuepwYbPhbrq3Mm</td></tr>\n",
       "\t<tr><th scope=row>9</th><td>Twisted History                  </td><td>Barstool Sports                </td><td> TRUE</td><td>en</td><td>0MAy0KsQpBaLNA0f1SFD6h</td></tr>\n",
       "\t<tr><th scope=row>10</th><td>Tides of History                 </td><td>Wondery /  Patrick Wyman       </td><td>FALSE</td><td>en</td><td>5HfIy3oLUOVwxMiCTi2Qos</td></tr>\n",
       "</tbody>\n",
       "</table>\n"
      ],
      "text/latex": [
       "A data.frame: 10 × 5\n",
       "\\begin{tabular}{r|lllll}\n",
       "  & Podcast Name & Podcast Publisher & Explicit & Language & Podcast ID\\\\\n",
       "  & <chr> & <chr> & <lgl> & <chr> & <chr>\\\\\n",
       "\\hline\n",
       "\t1 & The History of Rome               & Mike Duncan                     & FALSE & en & 6wiEd40oPbQ9UK1rSpIy8I\\\\\n",
       "\t2 & Revisionist History               & Pushkin Industries              & FALSE & en & 2LOJaYKijiwNefCvzczyib\\\\\n",
       "\t3 & American History Tellers          & Wondery                         & FALSE & en & 6ynzLDYSVQUsI0ZgMAxwWI\\\\\n",
       "\t4 & An Oral History of The Office     & Propagate Content               & FALSE & en & 5T1519uHGVd6Te2xF5tKkR\\\\\n",
       "\t5 & Stuff You Missed in History Class & iHeartRadio                     & FALSE & en & 4Zkj8TTa7XAZYI6aFetlec\\\\\n",
       "\t6 & History That Doesn't Suck         & Prof. Greg Jackson              & FALSE & en & 7AVu47DIP4G9YGMJXtMgRi\\\\\n",
       "\t7 & The History Chicks                & The History Chicks /Wondery     & FALSE & en & 7dqlIAdQaybiJrfrtCbRnW\\\\\n",
       "\t8 & The History of Byzantium          & thehistoryofbyzantium@gmail.com & FALSE & en & 2APexkhnuepwYbPhbrq3Mm\\\\\n",
       "\t9 & Twisted History                   & Barstool Sports                 &  TRUE & en & 0MAy0KsQpBaLNA0f1SFD6h\\\\\n",
       "\t10 & Tides of History                  & Wondery /  Patrick Wyman        & FALSE & en & 5HfIy3oLUOVwxMiCTi2Qos\\\\\n",
       "\\end{tabular}\n"
      ],
      "text/markdown": [
       "\n",
       "A data.frame: 10 × 5\n",
       "\n",
       "| <!--/--> | Podcast Name &lt;chr&gt; | Podcast Publisher &lt;chr&gt; | Explicit &lt;lgl&gt; | Language &lt;chr&gt; | Podcast ID &lt;chr&gt; |\n",
       "|---|---|---|---|---|---|\n",
       "| 1 | The History of Rome               | Mike Duncan                     | FALSE | en | 6wiEd40oPbQ9UK1rSpIy8I |\n",
       "| 2 | Revisionist History               | Pushkin Industries              | FALSE | en | 2LOJaYKijiwNefCvzczyib |\n",
       "| 3 | American History Tellers          | Wondery                         | FALSE | en | 6ynzLDYSVQUsI0ZgMAxwWI |\n",
       "| 4 | An Oral History of The Office     | Propagate Content               | FALSE | en | 5T1519uHGVd6Te2xF5tKkR |\n",
       "| 5 | Stuff You Missed in History Class | iHeartRadio                     | FALSE | en | 4Zkj8TTa7XAZYI6aFetlec |\n",
       "| 6 | History That Doesn't Suck         | Prof. Greg Jackson              | FALSE | en | 7AVu47DIP4G9YGMJXtMgRi |\n",
       "| 7 | The History Chicks                | The History Chicks /Wondery     | FALSE | en | 7dqlIAdQaybiJrfrtCbRnW |\n",
       "| 8 | The History of Byzantium          | thehistoryofbyzantium@gmail.com | FALSE | en | 2APexkhnuepwYbPhbrq3Mm |\n",
       "| 9 | Twisted History                   | Barstool Sports                 |  TRUE | en | 0MAy0KsQpBaLNA0f1SFD6h |\n",
       "| 10 | Tides of History                  | Wondery /  Patrick Wyman        | FALSE | en | 5HfIy3oLUOVwxMiCTi2Qos |\n",
       "\n"
      ],
      "text/plain": [
       "   Podcast Name                      Podcast Publisher               Explicit\n",
       "1  The History of Rome               Mike Duncan                     FALSE   \n",
       "2  Revisionist History               Pushkin Industries              FALSE   \n",
       "3  American History Tellers          Wondery                         FALSE   \n",
       "4  An Oral History of The Office     Propagate Content               FALSE   \n",
       "5  Stuff You Missed in History Class iHeartRadio                     FALSE   \n",
       "6  History That Doesn't Suck         Prof. Greg Jackson              FALSE   \n",
       "7  The History Chicks                The History Chicks /Wondery     FALSE   \n",
       "8  The History of Byzantium          thehistoryofbyzantium@gmail.com FALSE   \n",
       "9  Twisted History                   Barstool Sports                  TRUE   \n",
       "10 Tides of History                  Wondery /  Patrick Wyman        FALSE   \n",
       "   Language Podcast ID            \n",
       "1  en       6wiEd40oPbQ9UK1rSpIy8I\n",
       "2  en       2LOJaYKijiwNefCvzczyib\n",
       "3  en       6ynzLDYSVQUsI0ZgMAxwWI\n",
       "4  en       5T1519uHGVd6Te2xF5tKkR\n",
       "5  en       4Zkj8TTa7XAZYI6aFetlec\n",
       "6  en       7AVu47DIP4G9YGMJXtMgRi\n",
       "7  en       7dqlIAdQaybiJrfrtCbRnW\n",
       "8  en       2APexkhnuepwYbPhbrq3Mm\n",
       "9  en       0MAy0KsQpBaLNA0f1SFD6h\n",
       "10 en       5HfIy3oLUOVwxMiCTi2Qos"
      ]
     },
     "metadata": {},
     "output_type": "display_data"
    }
   ],
   "source": [
    "response"
   ]
  },
  {
   "cell_type": "code",
   "execution_count": 306,
   "id": "potential-korean",
   "metadata": {},
   "outputs": [],
   "source": [
    "response = get_recent_episodes('2LOJaYKijiwNefCvzczyib')"
   ]
  },
  {
   "cell_type": "code",
   "execution_count": 307,
   "id": "caroline-department",
   "metadata": {},
   "outputs": [
    {
     "data": {
      "text/html": [
       "<table>\n",
       "<caption>A data.frame: 5 × 5</caption>\n",
       "<thead>\n",
       "\t<tr><th></th><th scope=col>Episode Name</th><th scope=col>Release Date</th><th scope=col>Duration</th><th scope=col>Explicit</th><th scope=col>Episode ID</th></tr>\n",
       "\t<tr><th></th><th scope=col>&lt;chr&gt;</th><th scope=col>&lt;chr&gt;</th><th scope=col>&lt;int&gt;</th><th scope=col>&lt;lgl&gt;</th><th scope=col>&lt;chr&gt;</th></tr>\n",
       "</thead>\n",
       "<tbody>\n",
       "\t<tr><th scope=row>1</th><td>Revisionist History Presents: Hasta la Vista, America</td><td>2021-01-21</td><td> 186018</td><td> TRUE</td><td>4DZhJeQxyceIFWknkpSDa5</td></tr>\n",
       "\t<tr><th scope=row>2</th><td>Bonus: Return to the 404                             </td><td>2020-12-17</td><td>2240078</td><td>FALSE</td><td>1mhXAk2oYcjbajQNTUJEZa</td></tr>\n",
       "\t<tr><th scope=row>3</th><td>Bonus: Druid Hills                                   </td><td>2020-12-10</td><td>2212101</td><td>FALSE</td><td>0sL59L1xHk1J6Ge4N2akCt</td></tr>\n",
       "\t<tr><th scope=row>4</th><td>Revisionist History Presents: Into the Zone          </td><td>2020-09-10</td><td>2985273</td><td>FALSE</td><td>3OsUpUSBPXEpUwe2oMLT41</td></tr>\n",
       "\t<tr><th scope=row>5</th><td>A Memorial for the Living                            </td><td>2020-08-20</td><td>2449032</td><td>FALSE</td><td>00COWsl8jj8hg3ad42LFzL</td></tr>\n",
       "</tbody>\n",
       "</table>\n"
      ],
      "text/latex": [
       "A data.frame: 5 × 5\n",
       "\\begin{tabular}{r|lllll}\n",
       "  & Episode Name & Release Date & Duration & Explicit & Episode ID\\\\\n",
       "  & <chr> & <chr> & <int> & <lgl> & <chr>\\\\\n",
       "\\hline\n",
       "\t1 & Revisionist History Presents: Hasta la Vista, America & 2021-01-21 &  186018 &  TRUE & 4DZhJeQxyceIFWknkpSDa5\\\\\n",
       "\t2 & Bonus: Return to the 404                              & 2020-12-17 & 2240078 & FALSE & 1mhXAk2oYcjbajQNTUJEZa\\\\\n",
       "\t3 & Bonus: Druid Hills                                    & 2020-12-10 & 2212101 & FALSE & 0sL59L1xHk1J6Ge4N2akCt\\\\\n",
       "\t4 & Revisionist History Presents: Into the Zone           & 2020-09-10 & 2985273 & FALSE & 3OsUpUSBPXEpUwe2oMLT41\\\\\n",
       "\t5 & A Memorial for the Living                             & 2020-08-20 & 2449032 & FALSE & 00COWsl8jj8hg3ad42LFzL\\\\\n",
       "\\end{tabular}\n"
      ],
      "text/markdown": [
       "\n",
       "A data.frame: 5 × 5\n",
       "\n",
       "| <!--/--> | Episode Name &lt;chr&gt; | Release Date &lt;chr&gt; | Duration &lt;int&gt; | Explicit &lt;lgl&gt; | Episode ID &lt;chr&gt; |\n",
       "|---|---|---|---|---|---|\n",
       "| 1 | Revisionist History Presents: Hasta la Vista, America | 2021-01-21 |  186018 |  TRUE | 4DZhJeQxyceIFWknkpSDa5 |\n",
       "| 2 | Bonus: Return to the 404                              | 2020-12-17 | 2240078 | FALSE | 1mhXAk2oYcjbajQNTUJEZa |\n",
       "| 3 | Bonus: Druid Hills                                    | 2020-12-10 | 2212101 | FALSE | 0sL59L1xHk1J6Ge4N2akCt |\n",
       "| 4 | Revisionist History Presents: Into the Zone           | 2020-09-10 | 2985273 | FALSE | 3OsUpUSBPXEpUwe2oMLT41 |\n",
       "| 5 | A Memorial for the Living                             | 2020-08-20 | 2449032 | FALSE | 00COWsl8jj8hg3ad42LFzL |\n",
       "\n"
      ],
      "text/plain": [
       "  Episode Name                                          Release Date Duration\n",
       "1 Revisionist History Presents: Hasta la Vista, America 2021-01-21    186018 \n",
       "2 Bonus: Return to the 404                              2020-12-17   2240078 \n",
       "3 Bonus: Druid Hills                                    2020-12-10   2212101 \n",
       "4 Revisionist History Presents: Into the Zone           2020-09-10   2985273 \n",
       "5 A Memorial for the Living                             2020-08-20   2449032 \n",
       "  Explicit Episode ID            \n",
       "1  TRUE    4DZhJeQxyceIFWknkpSDa5\n",
       "2 FALSE    1mhXAk2oYcjbajQNTUJEZa\n",
       "3 FALSE    0sL59L1xHk1J6Ge4N2akCt\n",
       "4 FALSE    3OsUpUSBPXEpUwe2oMLT41\n",
       "5 FALSE    00COWsl8jj8hg3ad42LFzL"
      ]
     },
     "metadata": {},
     "output_type": "display_data"
    }
   ],
   "source": [
    "response"
   ]
  },
  {
   "cell_type": "code",
   "execution_count": null,
   "id": "terminal-communication",
   "metadata": {},
   "outputs": [],
   "source": []
  }
 ],
 "metadata": {
  "kernelspec": {
   "display_name": "R",
   "language": "R",
   "name": "ir"
  },
  "language_info": {
   "codemirror_mode": "r",
   "file_extension": ".r",
   "mimetype": "text/x-r-source",
   "name": "R",
   "pygments_lexer": "r",
   "version": "4.0.2"
  }
 },
 "nbformat": 4,
 "nbformat_minor": 5
}
