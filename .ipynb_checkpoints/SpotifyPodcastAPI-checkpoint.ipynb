{
 "cells": [
  {
   "cell_type": "code",
   "execution_count": 37,
   "id": "lesbian-comedy",
   "metadata": {},
   "outputs": [],
   "source": [
    "library(httr)\n",
    "library(jsonlite)\n",
    "library(utils)"
   ]
  },
  {
   "cell_type": "code",
   "execution_count": 132,
   "id": "blocked-rescue",
   "metadata": {},
   "outputs": [],
   "source": [
    "get_authentication_token <- function(client_id, client_secret_id){\n",
    "    response = POST('https://accounts.spotify.com/api/token',\n",
    "                    accept_json(),\n",
    "                    authenticate(client_id, client_secret_id),\n",
    "                    body = list(grant_type = 'client_credentials'),\n",
    "                    encode = 'form',\n",
    "                    verbose())\n",
    "    authentication_token <<- content(response)$access_token\n",
    "    return (authentication_token)\n",
    "}"
   ]
  },
  {
   "cell_type": "code",
   "execution_count": 154,
   "id": "funny-stone",
   "metadata": {},
   "outputs": [],
   "source": [
    "get_podcast_id <- function(query, market='ES'){\n",
    "    base_url = 'https://api.spotify.com/v1/search'\n",
    "    response <- GET(base_url, \n",
    "                    query = list(q = enc2utf8(query),\n",
    "                                 type = 'show',\n",
    "                                 market=market),\n",
    "                    add_headers(Accept = 'application/json', \n",
    "                    Authorization = paste('Bearer', authentication_token)))\n",
    "    response = content(response)\n",
    "    return (response$shows$items[[1]]$id)\n",
    "}"
   ]
  },
  {
   "cell_type": "code",
   "execution_count": null,
   "id": "laughing-arrangement",
   "metadata": {},
   "outputs": [],
   "source": [
    "search_for_podcast <- function(keywords, market='ES', limit=10){\n",
    "    base_url = 'https://api.spotify.com/v1/search'\n",
    "    response <- GET(base_url, \n",
    "                    query = list(q = enc2utf8(keywords),\n",
    "                                 type = 'show',\n",
    "                                 market=market),\n",
    "                    add_headers(Accept = 'application/json', \n",
    "                    Authorization = paste('Bearer', authentication_token)))\n",
    "    return (response)\n",
    "    \n",
    "}"
   ]
  },
  {
   "cell_type": "code",
   "execution_count": 11,
   "id": "suspended-cannon",
   "metadata": {},
   "outputs": [],
   "source": [
    "get_episode_information <- function(episode_id){\n",
    "    base_url = 'https://api.spotify.com/v1/episodes/'\n",
    "    query = paste0(episode_id,'?market=ES')\n",
    "    url = paste0(base_url, query)\n",
    "    response <- GET(url, \n",
    "                    add_headers(Accept = 'application/json', \n",
    "                                Authorization = paste('Bearer', authentication_token)))\n",
    "    return (response)\n",
    "    \n",
    "}"
   ]
  },
  {
   "cell_type": "code",
   "execution_count": null,
   "id": "utility-cardiff",
   "metadata": {},
   "outputs": [],
   "source": []
  },
  {
   "cell_type": "markdown",
   "id": "right-profession",
   "metadata": {},
   "source": [
    "### Test"
   ]
  },
  {
   "cell_type": "code",
   "execution_count": 151,
   "id": "working-antenna",
   "metadata": {},
   "outputs": [
    {
     "name": "stdout",
     "output_type": "stream",
     "text": [
      "\n"
     ]
    }
   ],
   "source": [
    "client_id = Sys.getenv('CLIENT_ID')\n",
    "secret_id = Sys.getenv('CLIENT_SECRET_ID')\n",
    "\n",
    "authentication_token = get_authentication_token(client_id, secret_id)"
   ]
  },
  {
   "cell_type": "code",
   "execution_count": 152,
   "id": "tropical-biography",
   "metadata": {},
   "outputs": [
    {
     "data": {
      "text/html": [
       "'Today we continue our discussion of the work of Erich Fromm. '"
      ],
      "text/latex": [
       "'Today we continue our discussion of the work of Erich Fromm. '"
      ],
      "text/markdown": [
       "'Today we continue our discussion of the work of Erich Fromm. '"
      ],
      "text/plain": [
       "[1] \"Today we continue our discussion of the work of Erich Fromm. \""
      ]
     },
     "metadata": {},
     "output_type": "display_data"
    }
   ],
   "source": [
    "episode_id = '5fE0bPigcmwSrrYxjJD4Sv'\n",
    "episode = get_episode_information(episode_id, authentication_token)\n",
    "episode = content(episode)\n",
    "episode$description"
   ]
  },
  {
   "cell_type": "code",
   "execution_count": 155,
   "id": "informed-transportation",
   "metadata": {},
   "outputs": [],
   "source": [
    "podcast_keywords = 'parcast, conspiracy theories'\n",
    "show_id = get_podcast_id(podcast_keywords)"
   ]
  }
 ],
 "metadata": {
  "kernelspec": {
   "display_name": "R",
   "language": "R",
   "name": "ir"
  },
  "language_info": {
   "codemirror_mode": "r",
   "file_extension": ".r",
   "mimetype": "text/x-r-source",
   "name": "R",
   "pygments_lexer": "r",
   "version": "4.0.2"
  }
 },
 "nbformat": 4,
 "nbformat_minor": 5
}
