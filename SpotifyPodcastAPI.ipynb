{
 "cells": [
  {
   "cell_type": "code",
   "execution_count": 77,
   "id": "lesbian-comedy",
   "metadata": {},
   "outputs": [],
   "source": [
    "library(httr)\n",
    "library(jsonlite)"
   ]
  },
  {
   "cell_type": "code",
   "execution_count": 78,
   "id": "blocked-rescue",
   "metadata": {},
   "outputs": [],
   "source": [
    "get_authentication_token <- function(client_id, client_secret_id){\n",
    "    response = POST('https://accounts.spotify.com/api/token',\n",
    "                    accept_json(),\n",
    "                    authenticate(client_id, client_secret_id),\n",
    "                    body = list(grant_type = 'client_credentials'),\n",
    "                    encode = 'form',\n",
    "                    verbose())\n",
    "    authentication_token = content(response)$access_token\n",
    "    return (authentication_token)\n",
    "}"
   ]
  },
  {
   "cell_type": "code",
   "execution_count": 79,
   "id": "suspended-cannon",
   "metadata": {},
   "outputs": [],
   "source": [
    "get_episode_information <- function(episode_id, authentication_token){\n",
    "    base_url = 'https://api.spotify.com/v1/episodes/'\n",
    "    query = paste0(episode_id,'?market=ES')\n",
    "    url = paste0(base_url, query)\n",
    "    response <- GET(url, \n",
    "                    add_headers(Accept = 'application/json', \n",
    "                                Authorization = paste('Bearer', authentication_token)))\n",
    "    return (response)\n",
    "    \n",
    "}"
   ]
  },
  {
   "cell_type": "markdown",
   "id": "right-profession",
   "metadata": {},
   "source": [
    "### Test"
   ]
  },
  {
   "cell_type": "code",
   "execution_count": 89,
   "id": "working-antenna",
   "metadata": {},
   "outputs": [
    {
     "name": "stdout",
     "output_type": "stream",
     "text": [
      "\n"
     ]
    }
   ],
   "source": [
    "client_id = Sys.getenv('CLIENT_ID')\n",
    "secret_id = Sys.getenv('CLIENT_SECRET_ID')\n",
    "\n",
    "authentication_token = get_authentication_token(client_id, secret_id)"
   ]
  },
  {
   "cell_type": "code",
   "execution_count": 91,
   "id": "tropical-biography",
   "metadata": {},
   "outputs": [
    {
     "data": {
      "text/html": [
       "'Could one of America\\'s favorite pastimes be a silent killer? For decades, the National Football League overlooked the effects of repeat concussions in their athletes — and some players continue to pay the cost in the form of depression, violent behavior, even suicide.'"
      ],
      "text/latex": [
       "'Could one of America\\textbackslash{}'s favorite pastimes be a silent killer? For decades, the National Football League overlooked the effects of repeat concussions in their athletes — and some players continue to pay the cost in the form of depression, violent behavior, even suicide.'"
      ],
      "text/markdown": [
       "'Could one of America\\'s favorite pastimes be a silent killer? For decades, the National Football League overlooked the effects of repeat concussions in their athletes — and some players continue to pay the cost in the form of depression, violent behavior, even suicide.'"
      ],
      "text/plain": [
       "[1] \"Could one of America's favorite pastimes be a silent killer? For decades, the National Football League overlooked the effects of repeat concussions in their athletes — and some players continue to pay the cost in the form of depression, violent behavior, even suicide.\""
      ]
     },
     "metadata": {},
     "output_type": "display_data"
    }
   ],
   "source": [
    "episode_id = '2DohRitIaOtlGsW8ehAFCX'\n",
    "episode = get_episode_information(episode_id, authentication_token)\n",
    "episode = content(episode)\n",
    "episode$description"
   ]
  },
  {
   "cell_type": "code",
   "execution_count": null,
   "id": "lucky-crown",
   "metadata": {},
   "outputs": [],
   "source": []
  }
 ],
 "metadata": {
  "kernelspec": {
   "display_name": "R",
   "language": "R",
   "name": "ir"
  },
  "language_info": {
   "codemirror_mode": "r",
   "file_extension": ".r",
   "mimetype": "text/x-r-source",
   "name": "R",
   "pygments_lexer": "r",
   "version": "4.0.2"
  }
 },
 "nbformat": 4,
 "nbformat_minor": 5
}
