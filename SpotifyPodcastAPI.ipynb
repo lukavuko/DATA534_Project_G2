{
 "cells": [
  {
   "cell_type": "code",
   "execution_count": 76,
   "id": "lesbian-comedy",
   "metadata": {},
   "outputs": [],
   "source": [
    "library(httr)\n",
    "library(jsonlite)\n",
    "library(utils)\n",
    "library(gridExtra)"
   ]
  },
  {
   "cell_type": "code",
   "execution_count": 2,
   "id": "blocked-rescue",
   "metadata": {},
   "outputs": [],
   "source": [
    "get_authentication_token <- function(client_id, client_secret_id){\n",
    "    response = POST('https://accounts.spotify.com/api/token',\n",
    "                    accept_json(),\n",
    "                    authenticate(client_id, client_secret_id),\n",
    "                    body = list(grant_type = 'client_credentials'),\n",
    "                    encode = 'form',\n",
    "                    verbose())\n",
    "    authentication_token <<- content(response)$access_token\n",
    "    return (authentication_token)\n",
    "}"
   ]
  },
  {
   "cell_type": "code",
   "execution_count": 3,
   "id": "statewide-factory",
   "metadata": {},
   "outputs": [],
   "source": [
    "get_podcast_id <- function(query, market='ES'){\n",
    "    base_url = 'https://api.spotify.com/v1/search'\n",
    "    response <- GET(base_url, \n",
    "                    query = list(q = enc2utf8(query),\n",
    "                                 type = 'show',\n",
    "                                 market=market),\n",
    "                    add_headers(Accept = 'application/json', \n",
    "                    Authorization = paste('Bearer', authentication_token)))\n",
    "    response = content(response)\n",
    "    return (response$shows$items[[1]]$id)\n",
    "}"
   ]
  },
  {
   "cell_type": "code",
   "execution_count": 82,
   "id": "mobile-dodge",
   "metadata": {},
   "outputs": [],
   "source": [
    "search_for_podcast <- function(keywords, market='ES', explicit = FALSE, limit=5){\n",
    "    base_url = 'https://api.spotify.com/v1/search'\n",
    "    response <- GET(base_url, \n",
    "                    query = list(q = enc2utf8(keywords),\n",
    "                                 type = 'show',\n",
    "                                 market=market),\n",
    "                    add_headers(Accept = 'application/json', \n",
    "                    Authorization = paste('Bearer', authentication_token)))\n",
    "    \n",
    "    podcast_name = list()\n",
    "    podcast_publisher = list()\n",
    "    podcast_id = list()\n",
    "    explicit_content = list()\n",
    "    \n",
    "    response = content(response)\n",
    "\n",
    "    \n",
    "    for (i in 1:limit){\n",
    "        podcast_name[[i]] <- response$shows$items[[i]]$name\n",
    "        podcast_publisher[[i]] <- response$shows$items[[i]]$publisher\n",
    "        podcast_id[[i]] <- response$shows$items[[i]]$id\n",
    "        explicit_content[[i]] <- response$shows$items[[i]]$explicit \n",
    "    }\n",
    "    \n",
    "    podcast_search = data.frame(unlist(podcast_name),\n",
    "                                unlist(podcast_publisher),\n",
    "                                unlist(explicit_content),\n",
    "                                unlist(podcast_id)\n",
    "                                )\n",
    "    colnames(podcast_search) <- c('Podcast Name', 'Podcast Publisher', 'Explicit Content', 'Podcast ID')\n",
    "    \n",
    "    return (podcast_search)\n",
    "    \n",
    "}"
   ]
  },
  {
   "cell_type": "code",
   "execution_count": 5,
   "id": "suspended-cannon",
   "metadata": {},
   "outputs": [],
   "source": [
    "get_episode_information <- function(episode_id){\n",
    "    base_url = 'https://api.spotify.com/v1/episodes/'\n",
    "    query = paste0(episode_id,'?market=ES')\n",
    "    url = paste0(base_url, query)\n",
    "    response <- GET(url, \n",
    "                    add_headers(Accept = 'application/json', \n",
    "                                Authorization = paste('Bearer', authentication_token)))\n",
    "    return (response)\n",
    "    \n",
    "}"
   ]
  },
  {
   "cell_type": "code",
   "execution_count": null,
   "id": "vocational-raising",
   "metadata": {},
   "outputs": [],
   "source": []
  },
  {
   "cell_type": "markdown",
   "id": "right-profession",
   "metadata": {},
   "source": [
    "### Test"
   ]
  },
  {
   "cell_type": "code",
   "execution_count": 6,
   "id": "working-antenna",
   "metadata": {},
   "outputs": [
    {
     "name": "stdout",
     "output_type": "stream",
     "text": [
      "\n"
     ]
    }
   ],
   "source": [
    "client_id = Sys.getenv('CLIENT_ID')\n",
    "secret_id = Sys.getenv('CLIENT_SECRET_ID')\n",
    "\n",
    "authentication_token = get_authentication_token(client_id, secret_id)"
   ]
  },
  {
   "cell_type": "code",
   "execution_count": 7,
   "id": "tropical-biography",
   "metadata": {},
   "outputs": [
    {
     "data": {
      "text/html": [
       "'Today we continue our discussion of the work of Erich Fromm. '"
      ],
      "text/latex": [
       "'Today we continue our discussion of the work of Erich Fromm. '"
      ],
      "text/markdown": [
       "'Today we continue our discussion of the work of Erich Fromm. '"
      ],
      "text/plain": [
       "[1] \"Today we continue our discussion of the work of Erich Fromm. \""
      ]
     },
     "metadata": {},
     "output_type": "display_data"
    }
   ],
   "source": [
    "episode_id = '5fE0bPigcmwSrrYxjJD4Sv'\n",
    "episode = get_episode_information(episode_id)\n",
    "episode = content(episode)\n",
    "episode$description"
   ]
  },
  {
   "cell_type": "code",
   "execution_count": 21,
   "id": "pleasant-rhythm",
   "metadata": {},
   "outputs": [
    {
     "data": {
      "text/html": [
       "'5RdShpOtxKO3ZWohR2M6Sv'"
      ],
      "text/latex": [
       "'5RdShpOtxKO3ZWohR2M6Sv'"
      ],
      "text/markdown": [
       "'5RdShpOtxKO3ZWohR2M6Sv'"
      ],
      "text/plain": [
       "[1] \"5RdShpOtxKO3ZWohR2M6Sv\""
      ]
     },
     "metadata": {},
     "output_type": "display_data"
    }
   ],
   "source": [
    "podcast_keywords = 'parcast, conspiracy theories'\n",
    "show_id = get_podcast_id(podcast_keywords)\n",
    "show_id"
   ]
  },
  {
   "cell_type": "code",
   "execution_count": 89,
   "id": "promising-yahoo",
   "metadata": {},
   "outputs": [
    {
     "data": {
      "text/html": [
       "<table>\n",
       "<caption>A data.frame: 10 × 4</caption>\n",
       "<thead>\n",
       "\t<tr><th scope=col>Podcast Name</th><th scope=col>Podcast Publisher</th><th scope=col>Explicit Content</th><th scope=col>Podcast ID</th></tr>\n",
       "\t<tr><th scope=col>&lt;chr&gt;</th><th scope=col>&lt;chr&gt;</th><th scope=col>&lt;lgl&gt;</th><th scope=col>&lt;chr&gt;</th></tr>\n",
       "</thead>\n",
       "<tbody>\n",
       "\t<tr><td>SER Historia                                   </td><td>Cadena SER                </td><td>FALSE</td><td>0nFMjIf5dk2X4gfv9wnRNf</td></tr>\n",
       "\t<tr><td>Curiosidades de la Historia National Geographic</td><td>National Geographic España</td><td>FALSE</td><td>5LpYg29KE8rckzwEj2JGmS</td></tr>\n",
       "\t<tr><td>HISTORIAS DE LA HISTORIA                       </td><td>VIVA RADIO                </td><td>FALSE</td><td>39wGmvob0nYl6L1klXiew9</td></tr>\n",
       "\t<tr><td>Historia de España para selectividad           </td><td>Podium Podcast            </td><td>FALSE</td><td>1ukhoriiZiLoxTNW6ZQTeE</td></tr>\n",
       "\t<tr><td>Historia con el móvil                          </td><td>Podium Podcast            </td><td>FALSE</td><td>55iNyxqAXcGiX9S1GlsVPn</td></tr>\n",
       "\t<tr><td>Filosofía, Psicología, Historias               </td><td>Hernán Melana             </td><td>FALSE</td><td>17dk0hYDmVq7EzGXC8y4u6</td></tr>\n",
       "\t<tr><td>Menuda Historia                                </td><td>Menuda Historia           </td><td>FALSE</td><td>61OdJ5W8oi8yr5aoJnyR78</td></tr>\n",
       "\t<tr><td>HISTORISAS                                     </td><td>HISTORISAS                </td><td>FALSE</td><td>70nD6Sczi1vxMyeOL7FZwy</td></tr>\n",
       "\t<tr><td>El Punto sobre la Historia                     </td><td>El Punto Sobre la Historia</td><td>FALSE</td><td>27tXtVgHnembxXOnCtsJX9</td></tr>\n",
       "\t<tr><td>Historias de nuestra historia                  </td><td>Radio Nacional Argentina  </td><td>FALSE</td><td>2OmwvoWbpUhhlmnZA0757T</td></tr>\n",
       "</tbody>\n",
       "</table>\n"
      ],
      "text/latex": [
       "A data.frame: 10 × 4\n",
       "\\begin{tabular}{llll}\n",
       " Podcast Name & Podcast Publisher & Explicit Content & Podcast ID\\\\\n",
       " <chr> & <chr> & <lgl> & <chr>\\\\\n",
       "\\hline\n",
       "\t SER Historia                                    & Cadena SER                 & FALSE & 0nFMjIf5dk2X4gfv9wnRNf\\\\\n",
       "\t Curiosidades de la Historia National Geographic & National Geographic España & FALSE & 5LpYg29KE8rckzwEj2JGmS\\\\\n",
       "\t HISTORIAS DE LA HISTORIA                        & VIVA RADIO                 & FALSE & 39wGmvob0nYl6L1klXiew9\\\\\n",
       "\t Historia de España para selectividad            & Podium Podcast             & FALSE & 1ukhoriiZiLoxTNW6ZQTeE\\\\\n",
       "\t Historia con el móvil                           & Podium Podcast             & FALSE & 55iNyxqAXcGiX9S1GlsVPn\\\\\n",
       "\t Filosofía, Psicología, Historias                & Hernán Melana              & FALSE & 17dk0hYDmVq7EzGXC8y4u6\\\\\n",
       "\t Menuda Historia                                 & Menuda Historia            & FALSE & 61OdJ5W8oi8yr5aoJnyR78\\\\\n",
       "\t HISTORISAS                                      & HISTORISAS                 & FALSE & 70nD6Sczi1vxMyeOL7FZwy\\\\\n",
       "\t El Punto sobre la Historia                      & El Punto Sobre la Historia & FALSE & 27tXtVgHnembxXOnCtsJX9\\\\\n",
       "\t Historias de nuestra historia                   & Radio Nacional Argentina   & FALSE & 2OmwvoWbpUhhlmnZA0757T\\\\\n",
       "\\end{tabular}\n"
      ],
      "text/markdown": [
       "\n",
       "A data.frame: 10 × 4\n",
       "\n",
       "| Podcast Name &lt;chr&gt; | Podcast Publisher &lt;chr&gt; | Explicit Content &lt;lgl&gt; | Podcast ID &lt;chr&gt; |\n",
       "|---|---|---|---|\n",
       "| SER Historia                                    | Cadena SER                 | FALSE | 0nFMjIf5dk2X4gfv9wnRNf |\n",
       "| Curiosidades de la Historia National Geographic | National Geographic España | FALSE | 5LpYg29KE8rckzwEj2JGmS |\n",
       "| HISTORIAS DE LA HISTORIA                        | VIVA RADIO                 | FALSE | 39wGmvob0nYl6L1klXiew9 |\n",
       "| Historia de España para selectividad            | Podium Podcast             | FALSE | 1ukhoriiZiLoxTNW6ZQTeE |\n",
       "| Historia con el móvil                           | Podium Podcast             | FALSE | 55iNyxqAXcGiX9S1GlsVPn |\n",
       "| Filosofía, Psicología, Historias                | Hernán Melana              | FALSE | 17dk0hYDmVq7EzGXC8y4u6 |\n",
       "| Menuda Historia                                 | Menuda Historia            | FALSE | 61OdJ5W8oi8yr5aoJnyR78 |\n",
       "| HISTORISAS                                      | HISTORISAS                 | FALSE | 70nD6Sczi1vxMyeOL7FZwy |\n",
       "| El Punto sobre la Historia                      | El Punto Sobre la Historia | FALSE | 27tXtVgHnembxXOnCtsJX9 |\n",
       "| Historias de nuestra historia                   | Radio Nacional Argentina   | FALSE | 2OmwvoWbpUhhlmnZA0757T |\n",
       "\n"
      ],
      "text/plain": [
       "   Podcast Name                                    Podcast Publisher         \n",
       "1  SER Historia                                    Cadena SER                \n",
       "2  Curiosidades de la Historia National Geographic National Geographic España\n",
       "3  HISTORIAS DE LA HISTORIA                        VIVA RADIO                \n",
       "4  Historia de España para selectividad            Podium Podcast            \n",
       "5  Historia con el móvil                           Podium Podcast            \n",
       "6  Filosofía, Psicología, Historias                Hernán Melana             \n",
       "7  Menuda Historia                                 Menuda Historia           \n",
       "8  HISTORISAS                                      HISTORISAS                \n",
       "9  El Punto sobre la Historia                      El Punto Sobre la Historia\n",
       "10 Historias de nuestra historia                   Radio Nacional Argentina  \n",
       "   Explicit Content Podcast ID            \n",
       "1  FALSE            0nFMjIf5dk2X4gfv9wnRNf\n",
       "2  FALSE            5LpYg29KE8rckzwEj2JGmS\n",
       "3  FALSE            39wGmvob0nYl6L1klXiew9\n",
       "4  FALSE            1ukhoriiZiLoxTNW6ZQTeE\n",
       "5  FALSE            55iNyxqAXcGiX9S1GlsVPn\n",
       "6  FALSE            17dk0hYDmVq7EzGXC8y4u6\n",
       "7  FALSE            61OdJ5W8oi8yr5aoJnyR78\n",
       "8  FALSE            70nD6Sczi1vxMyeOL7FZwy\n",
       "9  FALSE            27tXtVgHnembxXOnCtsJX9\n",
       "10 FALSE            2OmwvoWbpUhhlmnZA0757T"
      ]
     },
     "metadata": {},
     "output_type": "display_data"
    }
   ],
   "source": [
    "podcast_keywords = 'history'\n",
    "response = search_for_podcast(podcast_keywords, limit=10)\n",
    "response"
   ]
  },
  {
   "cell_type": "code",
   "execution_count": null,
   "id": "smaller-little",
   "metadata": {},
   "outputs": [],
   "source": []
  }
 ],
 "metadata": {
  "kernelspec": {
   "display_name": "R",
   "language": "R",
   "name": "ir"
  },
  "language_info": {
   "codemirror_mode": "r",
   "file_extension": ".r",
   "mimetype": "text/x-r-source",
   "name": "R",
   "pygments_lexer": "r",
   "version": "4.0.2"
  }
 },
 "nbformat": 4,
 "nbformat_minor": 5
}
